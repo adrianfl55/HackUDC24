{
 "cells": [
  {
   "cell_type": "code",
   "execution_count": 1,
   "metadata": {},
   "outputs": [
    {
     "data": {
      "text/html": [
       "<div>\n",
       "<style scoped>\n",
       "    .dataframe tbody tr th:only-of-type {\n",
       "        vertical-align: middle;\n",
       "    }\n",
       "\n",
       "    .dataframe tbody tr th {\n",
       "        vertical-align: top;\n",
       "    }\n",
       "\n",
       "    .dataframe thead th {\n",
       "        text-align: right;\n",
       "    }\n",
       "</style>\n",
       "<table border=\"1\" class=\"dataframe\">\n",
       "  <thead>\n",
       "    <tr style=\"text-align: right;\">\n",
       "      <th></th>\n",
       "      <th>Fecha</th>\n",
       "      <th>Hora</th>\n",
       "      <th>Consumo_KWh</th>\n",
       "      <th>Metodo_obtencion</th>\n",
       "    </tr>\n",
       "    <tr>\n",
       "      <th>CUPS</th>\n",
       "      <th></th>\n",
       "      <th></th>\n",
       "      <th></th>\n",
       "      <th></th>\n",
       "    </tr>\n",
       "  </thead>\n",
       "  <tbody>\n",
       "    <tr>\n",
       "      <th>ESXXXXXXXXXXXXXXXXXXXX</th>\n",
       "      <td>15/02/2023</td>\n",
       "      <td>1</td>\n",
       "      <td>0,081</td>\n",
       "      <td>R</td>\n",
       "    </tr>\n",
       "    <tr>\n",
       "      <th>ESXXXXXXXXXXXXXXXXXXXX</th>\n",
       "      <td>15/02/2023</td>\n",
       "      <td>2</td>\n",
       "      <td>0,039</td>\n",
       "      <td>R</td>\n",
       "    </tr>\n",
       "    <tr>\n",
       "      <th>ESXXXXXXXXXXXXXXXXXXXX</th>\n",
       "      <td>15/02/2023</td>\n",
       "      <td>3</td>\n",
       "      <td>0,049</td>\n",
       "      <td>R</td>\n",
       "    </tr>\n",
       "    <tr>\n",
       "      <th>ESXXXXXXXXXXXXXXXXXXXX</th>\n",
       "      <td>15/02/2023</td>\n",
       "      <td>4</td>\n",
       "      <td>0,038</td>\n",
       "      <td>R</td>\n",
       "    </tr>\n",
       "    <tr>\n",
       "      <th>ESXXXXXXXXXXXXXXXXXXXX</th>\n",
       "      <td>15/02/2023</td>\n",
       "      <td>5</td>\n",
       "      <td>0,035</td>\n",
       "      <td>R</td>\n",
       "    </tr>\n",
       "    <tr>\n",
       "      <th>ESXXXXXXXXXXXXXXXXXXXX</th>\n",
       "      <td>15/02/2023</td>\n",
       "      <td>6</td>\n",
       "      <td>0,053</td>\n",
       "      <td>R</td>\n",
       "    </tr>\n",
       "    <tr>\n",
       "      <th>ESXXXXXXXXXXXXXXXXXXXX</th>\n",
       "      <td>15/02/2023</td>\n",
       "      <td>7</td>\n",
       "      <td>0,039</td>\n",
       "      <td>R</td>\n",
       "    </tr>\n",
       "    <tr>\n",
       "      <th>ESXXXXXXXXXXXXXXXXXXXX</th>\n",
       "      <td>15/02/2023</td>\n",
       "      <td>8</td>\n",
       "      <td>0,095</td>\n",
       "      <td>R</td>\n",
       "    </tr>\n",
       "    <tr>\n",
       "      <th>ESXXXXXXXXXXXXXXXXXXXX</th>\n",
       "      <td>15/02/2023</td>\n",
       "      <td>9</td>\n",
       "      <td>0,123</td>\n",
       "      <td>R</td>\n",
       "    </tr>\n",
       "    <tr>\n",
       "      <th>ESXXXXXXXXXXXXXXXXXXXX</th>\n",
       "      <td>15/02/2023</td>\n",
       "      <td>10</td>\n",
       "      <td>0,117</td>\n",
       "      <td>R</td>\n",
       "    </tr>\n",
       "    <tr>\n",
       "      <th>ESXXXXXXXXXXXXXXXXXXXX</th>\n",
       "      <td>15/02/2023</td>\n",
       "      <td>11</td>\n",
       "      <td>0,149</td>\n",
       "      <td>R</td>\n",
       "    </tr>\n",
       "    <tr>\n",
       "      <th>ESXXXXXXXXXXXXXXXXXXXX</th>\n",
       "      <td>15/02/2023</td>\n",
       "      <td>12</td>\n",
       "      <td>0,122</td>\n",
       "      <td>R</td>\n",
       "    </tr>\n",
       "    <tr>\n",
       "      <th>ESXXXXXXXXXXXXXXXXXXXX</th>\n",
       "      <td>15/02/2023</td>\n",
       "      <td>13</td>\n",
       "      <td>0,110</td>\n",
       "      <td>R</td>\n",
       "    </tr>\n",
       "    <tr>\n",
       "      <th>ESXXXXXXXXXXXXXXXXXXXX</th>\n",
       "      <td>15/02/2023</td>\n",
       "      <td>14</td>\n",
       "      <td>0,520</td>\n",
       "      <td>R</td>\n",
       "    </tr>\n",
       "    <tr>\n",
       "      <th>ESXXXXXXXXXXXXXXXXXXXX</th>\n",
       "      <td>15/02/2023</td>\n",
       "      <td>15</td>\n",
       "      <td>0,112</td>\n",
       "      <td>R</td>\n",
       "    </tr>\n",
       "    <tr>\n",
       "      <th>ESXXXXXXXXXXXXXXXXXXXX</th>\n",
       "      <td>15/02/2023</td>\n",
       "      <td>16</td>\n",
       "      <td>0,131</td>\n",
       "      <td>R</td>\n",
       "    </tr>\n",
       "    <tr>\n",
       "      <th>ESXXXXXXXXXXXXXXXXXXXX</th>\n",
       "      <td>15/02/2023</td>\n",
       "      <td>17</td>\n",
       "      <td>0,105</td>\n",
       "      <td>R</td>\n",
       "    </tr>\n",
       "    <tr>\n",
       "      <th>ESXXXXXXXXXXXXXXXXXXXX</th>\n",
       "      <td>15/02/2023</td>\n",
       "      <td>18</td>\n",
       "      <td>0,080</td>\n",
       "      <td>R</td>\n",
       "    </tr>\n",
       "    <tr>\n",
       "      <th>ESXXXXXXXXXXXXXXXXXXXX</th>\n",
       "      <td>15/02/2023</td>\n",
       "      <td>19</td>\n",
       "      <td>0,040</td>\n",
       "      <td>R</td>\n",
       "    </tr>\n",
       "    <tr>\n",
       "      <th>ESXXXXXXXXXXXXXXXXXXXX</th>\n",
       "      <td>15/02/2023</td>\n",
       "      <td>20</td>\n",
       "      <td>0,083</td>\n",
       "      <td>R</td>\n",
       "    </tr>\n",
       "    <tr>\n",
       "      <th>ESXXXXXXXXXXXXXXXXXXXX</th>\n",
       "      <td>15/02/2023</td>\n",
       "      <td>21</td>\n",
       "      <td>0,135</td>\n",
       "      <td>R</td>\n",
       "    </tr>\n",
       "    <tr>\n",
       "      <th>ESXXXXXXXXXXXXXXXXXXXX</th>\n",
       "      <td>15/02/2023</td>\n",
       "      <td>22</td>\n",
       "      <td>0,320</td>\n",
       "      <td>R</td>\n",
       "    </tr>\n",
       "    <tr>\n",
       "      <th>ESXXXXXXXXXXXXXXXXXXXX</th>\n",
       "      <td>15/02/2023</td>\n",
       "      <td>23</td>\n",
       "      <td>0,102</td>\n",
       "      <td>R</td>\n",
       "    </tr>\n",
       "    <tr>\n",
       "      <th>ESXXXXXXXXXXXXXXXXXXXX</th>\n",
       "      <td>15/02/2023</td>\n",
       "      <td>24</td>\n",
       "      <td>0,098</td>\n",
       "      <td>R</td>\n",
       "    </tr>\n",
       "  </tbody>\n",
       "</table>\n",
       "</div>"
      ],
      "text/plain": [
       "                             Fecha  Hora Consumo_KWh Metodo_obtencion\n",
       "CUPS                                                                 \n",
       "ESXXXXXXXXXXXXXXXXXXXX  15/02/2023     1       0,081                R\n",
       "ESXXXXXXXXXXXXXXXXXXXX  15/02/2023     2       0,039                R\n",
       "ESXXXXXXXXXXXXXXXXXXXX  15/02/2023     3       0,049                R\n",
       "ESXXXXXXXXXXXXXXXXXXXX  15/02/2023     4       0,038                R\n",
       "ESXXXXXXXXXXXXXXXXXXXX  15/02/2023     5       0,035                R\n",
       "ESXXXXXXXXXXXXXXXXXXXX  15/02/2023     6       0,053                R\n",
       "ESXXXXXXXXXXXXXXXXXXXX  15/02/2023     7       0,039                R\n",
       "ESXXXXXXXXXXXXXXXXXXXX  15/02/2023     8       0,095                R\n",
       "ESXXXXXXXXXXXXXXXXXXXX  15/02/2023     9       0,123                R\n",
       "ESXXXXXXXXXXXXXXXXXXXX  15/02/2023    10       0,117                R\n",
       "ESXXXXXXXXXXXXXXXXXXXX  15/02/2023    11       0,149                R\n",
       "ESXXXXXXXXXXXXXXXXXXXX  15/02/2023    12       0,122                R\n",
       "ESXXXXXXXXXXXXXXXXXXXX  15/02/2023    13       0,110                R\n",
       "ESXXXXXXXXXXXXXXXXXXXX  15/02/2023    14       0,520                R\n",
       "ESXXXXXXXXXXXXXXXXXXXX  15/02/2023    15       0,112                R\n",
       "ESXXXXXXXXXXXXXXXXXXXX  15/02/2023    16       0,131                R\n",
       "ESXXXXXXXXXXXXXXXXXXXX  15/02/2023    17       0,105                R\n",
       "ESXXXXXXXXXXXXXXXXXXXX  15/02/2023    18       0,080                R\n",
       "ESXXXXXXXXXXXXXXXXXXXX  15/02/2023    19       0,040                R\n",
       "ESXXXXXXXXXXXXXXXXXXXX  15/02/2023    20       0,083                R\n",
       "ESXXXXXXXXXXXXXXXXXXXX  15/02/2023    21       0,135                R\n",
       "ESXXXXXXXXXXXXXXXXXXXX  15/02/2023    22       0,320                R\n",
       "ESXXXXXXXXXXXXXXXXXXXX  15/02/2023    23       0,102                R\n",
       "ESXXXXXXXXXXXXXXXXXXXX  15/02/2023    24       0,098                R"
      ]
     },
     "execution_count": 1,
     "metadata": {},
     "output_type": "execute_result"
    }
   ],
   "source": [
    "import pandas as pd\n",
    "import seaborn as sns\n",
    "import matplotlib.pyplot as plt\n",
    "\n",
    "df = pd.read_csv(\"consumptions.csv\", delimiter=';', index_col=0)\n",
    "df"
   ]
  },
  {
   "cell_type": "code",
   "execution_count": 14,
   "metadata": {},
   "outputs": [
    {
     "data": {
      "text/html": [
       "<div>\n",
       "<style scoped>\n",
       "    .dataframe tbody tr th:only-of-type {\n",
       "        vertical-align: middle;\n",
       "    }\n",
       "\n",
       "    .dataframe tbody tr th {\n",
       "        vertical-align: top;\n",
       "    }\n",
       "\n",
       "    .dataframe thead th {\n",
       "        text-align: right;\n",
       "    }\n",
       "</style>\n",
       "<table border=\"1\" class=\"dataframe\">\n",
       "  <thead>\n",
       "    <tr style=\"text-align: right;\">\n",
       "      <th></th>\n",
       "      <th>CUPS</th>\n",
       "      <th>Fecha</th>\n",
       "      <th>Hora</th>\n",
       "      <th>Consumo_KWh</th>\n",
       "      <th>Metodo_obtencion</th>\n",
       "    </tr>\n",
       "  </thead>\n",
       "  <tbody>\n",
       "    <tr>\n",
       "      <th>0</th>\n",
       "      <td>ESXXXXXXXXXXXXXXXXXXXX</td>\n",
       "      <td>01/01/2023</td>\n",
       "      <td>1</td>\n",
       "      <td>0.462</td>\n",
       "      <td>R</td>\n",
       "    </tr>\n",
       "    <tr>\n",
       "      <th>1</th>\n",
       "      <td>ESXXXXXXXXXXXXXXXXXXXX</td>\n",
       "      <td>01/01/2023</td>\n",
       "      <td>2</td>\n",
       "      <td>0.213</td>\n",
       "      <td>R</td>\n",
       "    </tr>\n",
       "    <tr>\n",
       "      <th>2</th>\n",
       "      <td>ESXXXXXXXXXXXXXXXXXXXX</td>\n",
       "      <td>01/01/2023</td>\n",
       "      <td>3</td>\n",
       "      <td>0.353</td>\n",
       "      <td>R</td>\n",
       "    </tr>\n",
       "    <tr>\n",
       "      <th>3</th>\n",
       "      <td>ESXXXXXXXXXXXXXXXXXXXX</td>\n",
       "      <td>01/01/2023</td>\n",
       "      <td>4</td>\n",
       "      <td>0.119</td>\n",
       "      <td>R</td>\n",
       "    </tr>\n",
       "    <tr>\n",
       "      <th>4</th>\n",
       "      <td>ESXXXXXXXXXXXXXXXXXXXX</td>\n",
       "      <td>01/01/2023</td>\n",
       "      <td>5</td>\n",
       "      <td>0.263</td>\n",
       "      <td>R</td>\n",
       "    </tr>\n",
       "    <tr>\n",
       "      <th>...</th>\n",
       "      <td>...</td>\n",
       "      <td>...</td>\n",
       "      <td>...</td>\n",
       "      <td>...</td>\n",
       "      <td>...</td>\n",
       "    </tr>\n",
       "    <tr>\n",
       "      <th>8755</th>\n",
       "      <td>ESXXXXXXXXXXXXXXXXXXXX</td>\n",
       "      <td>31/12/2023</td>\n",
       "      <td>20</td>\n",
       "      <td>0.262</td>\n",
       "      <td>R</td>\n",
       "    </tr>\n",
       "    <tr>\n",
       "      <th>8756</th>\n",
       "      <td>ESXXXXXXXXXXXXXXXXXXXX</td>\n",
       "      <td>31/12/2023</td>\n",
       "      <td>21</td>\n",
       "      <td>0.370</td>\n",
       "      <td>R</td>\n",
       "    </tr>\n",
       "    <tr>\n",
       "      <th>8757</th>\n",
       "      <td>ESXXXXXXXXXXXXXXXXXXXX</td>\n",
       "      <td>31/12/2023</td>\n",
       "      <td>22</td>\n",
       "      <td>0.475</td>\n",
       "      <td>R</td>\n",
       "    </tr>\n",
       "    <tr>\n",
       "      <th>8758</th>\n",
       "      <td>ESXXXXXXXXXXXXXXXXXXXX</td>\n",
       "      <td>31/12/2023</td>\n",
       "      <td>23</td>\n",
       "      <td>0.452</td>\n",
       "      <td>R</td>\n",
       "    </tr>\n",
       "    <tr>\n",
       "      <th>8759</th>\n",
       "      <td>ESXXXXXXXXXXXXXXXXXXXX</td>\n",
       "      <td>31/12/2023</td>\n",
       "      <td>24</td>\n",
       "      <td>0.404</td>\n",
       "      <td>R</td>\n",
       "    </tr>\n",
       "  </tbody>\n",
       "</table>\n",
       "<p>8760 rows × 5 columns</p>\n",
       "</div>"
      ],
      "text/plain": [
       "                        CUPS       Fecha  Hora  Consumo_KWh Metodo_obtencion\n",
       "0     ESXXXXXXXXXXXXXXXXXXXX  01/01/2023     1        0.462                R\n",
       "1     ESXXXXXXXXXXXXXXXXXXXX  01/01/2023     2        0.213                R\n",
       "2     ESXXXXXXXXXXXXXXXXXXXX  01/01/2023     3        0.353                R\n",
       "3     ESXXXXXXXXXXXXXXXXXXXX  01/01/2023     4        0.119                R\n",
       "4     ESXXXXXXXXXXXXXXXXXXXX  01/01/2023     5        0.263                R\n",
       "...                      ...         ...   ...          ...              ...\n",
       "8755  ESXXXXXXXXXXXXXXXXXXXX  31/12/2023    20        0.262                R\n",
       "8756  ESXXXXXXXXXXXXXXXXXXXX  31/12/2023    21        0.370                R\n",
       "8757  ESXXXXXXXXXXXXXXXXXXXX  31/12/2023    22        0.475                R\n",
       "8758  ESXXXXXXXXXXXXXXXXXXXX  31/12/2023    23        0.452                R\n",
       "8759  ESXXXXXXXXXXXXXXXXXXXX  31/12/2023    24        0.404                R\n",
       "\n",
       "[8760 rows x 5 columns]"
      ]
     },
     "execution_count": 14,
     "metadata": {},
     "output_type": "execute_result"
    }
   ],
   "source": [
    "import csv\n",
    "from datetime import datetime, timedelta\n",
    "import random\n",
    "\n",
    "df = pd.read_csv(\"dataset_365dias.csv\", delimiter=';')\n",
    "df"
   ]
  },
  {
   "cell_type": "code",
   "execution_count": 35,
   "metadata": {},
   "outputs": [
    {
     "name": "stdout",
     "output_type": "stream",
     "text": [
      "                        CUPS  Consumo_KWh Metodo_obtencion          Fecha_Hora\n",
      "0     ESXXXXXXXXXXXXXXXXXXXX        0.462                R 2023-01-01 00:00:00\n",
      "1     ESXXXXXXXXXXXXXXXXXXXX        0.213                R 2023-01-01 01:00:00\n",
      "2     ESXXXXXXXXXXXXXXXXXXXX        0.353                R 2023-01-01 02:00:00\n",
      "3     ESXXXXXXXXXXXXXXXXXXXX        0.119                R 2023-01-01 03:00:00\n",
      "4     ESXXXXXXXXXXXXXXXXXXXX        0.263                R 2023-01-01 04:00:00\n",
      "...                      ...          ...              ...                 ...\n",
      "8755  ESXXXXXXXXXXXXXXXXXXXX        0.262                R 2023-12-31 19:00:00\n",
      "8756  ESXXXXXXXXXXXXXXXXXXXX        0.370                R 2023-12-31 20:00:00\n",
      "8757  ESXXXXXXXXXXXXXXXXXXXX        0.475                R 2023-12-31 21:00:00\n",
      "8758  ESXXXXXXXXXXXXXXXXXXXX        0.452                R 2023-12-31 22:00:00\n",
      "8759  ESXXXXXXXXXXXXXXXXXXXX        0.404                R 2023-12-31 23:00:00\n",
      "\n",
      "[8760 rows x 4 columns]\n"
     ]
    }
   ],
   "source": [
    "from datetime import datetime\n",
    "\n",
    "from datetime import datetime\n",
    "import pandas as pd\n",
    "\n",
    "\n",
    "def consumptions_csv_to_df(path: str = \"dataset_365dias.csv\") -> pd.DataFrame:\n",
    "    consumptions = pd.read_csv(path, delimiter=\";\")\n",
    "\n",
    "    # Crear campo de fecha y hora\n",
    "    consumptions[\"Fecha_Hora\"] = pd.to_datetime(\n",
    "        consumptions[\"Fecha\"] + \" \" + (consumptions[\"Hora\"] - 1).astype(str) + \":00:00\",\n",
    "        format=\"%d/%m/%Y %H:%M:%S\",\n",
    "    )\n",
    "\n",
    "    # Eliminar campos de fecha y hora\n",
    "    consumptions = consumptions.drop(columns=[\"Fecha\", \"Hora\"])\n",
    "\n",
    "    return consumptions\n",
    "\n",
    "\n",
    "def consumptions_csv_to_dict(path: str = \"dataset_365dias.csv\") -> dict:\n",
    "\n",
    "    consumptions = {}\n",
    "\n",
    "    with open(path, \"r\") as f:\n",
    "        data = f.readlines()\n",
    "\n",
    "    for line in data[1:]:\n",
    "        cups, fecha, hora, kWh, metodo = line.strip().split(\";\")\n",
    "\n",
    "        fecha = fecha.split(\"/\")[::-1]\n",
    "\n",
    "        fechahora = datetime.strptime(\n",
    "            f\"{fecha[0]}-{fecha[1]}-{fecha[2]} {int(hora)-1}:00:00\", \"%Y-%m-%d %H:%M:%S\"\n",
    "        )\n",
    "\n",
    "        consumptions[fechahora.timestamp()] = float(kWh.replace(\",\", \".\"))\n",
    "\n",
    "    return consumptions\n",
    "\n",
    "df = consumptions_csv_to_df()\n",
    "print(df)\n",
    "consumptions = consumptions_csv_to_dict()"
   ]
  },
  {
   "cell_type": "code",
   "execution_count": 36,
   "metadata": {},
   "outputs": [
    {
     "data": {
      "image/png": "[encoded data removed]",
      "text/plain": [
       "<Figure size 640x480 with 1 Axes>"
      ]
     },
     "metadata": {},
     "output_type": "display_data"
    }
   ],
   "source": [
    "import matplotlib.pyplot as plt\n",
    "from datetime import datetime\n",
    "from collections import defaultdict\n",
    "\n",
    "# Crear un diccionario para almacenar el consumo total por mes\n",
    "consumo_por_mes = defaultdict(float)\n",
    "\n",
    "# Calcular el consumo total por mes\n",
    "for timestamp, consumo in consumptions.items():\n",
    "    fecha = datetime.utcfromtimestamp(timestamp)\n",
    "    mes = fecha.month\n",
    "    consumo_por_mes[mes] += consumo\n",
    "\n",
    "# Convertir el diccionario a listas para plotear\n",
    "meses = list(consumo_por_mes.keys())\n",
    "consumo_total = list(consumo_por_mes.values())\n",
    "\n",
    "# Crear el gráfico\n",
    "plt.bar(meses, consumo_total, color='blue')\n",
    "plt.xlabel('Mes')\n",
    "plt.ylabel('Consumo total (KWh)')\n",
    "plt.title('Consumo total por mes')\n",
    "plt.xticks(meses, ['Ene', 'Feb', 'Mar', 'Abr', 'May', 'Jun', 'Jul', 'Ago', 'Sep', 'Oct', 'Nov', 'Dic'])\n",
    "\n",
    "# Mostrar el gráfico\n",
    "plt.show()\n"
   ]
  },
  {
   "cell_type": "code",
   "execution_count": 71,
   "metadata": {},
   "outputs": [
    {
     "name": "stderr",
     "output_type": "stream",
     "text": [
      "c:\\Users\\Usuario\\anaconda3\\lib\\site-packages\\_plotly_utils\\basevalidators.py:106: FutureWarning:\n",
      "\n",
      "The behavior of DatetimeProperties.to_pydatetime is deprecated, in a future version this will return a Series containing python datetime objects instead of an ndarray. To retain the old behavior, call `np.array` on the result\n",
      "\n"
     ]
    },
    {
     "data": {
      "application/vnd.plotly.v1+json": {
       "config": {
        "plotlyServerURL": "https://plot.ly"
       },
       "data": [
        {
         "alignmentgroup": "True",
         "hovertemplate": "Hora del día=%{x}<br>Consumo (KWh)=%{y}<extra></extra>",
         "legendgroup": "",
         "marker": {
          "color": "#636efa",
          "pattern": {
           "shape": ""
          }
         },
         "name": "",
         "offsetgroup": "",
         "orientation": "v",
         "showlegend": false,
         "textposition": "auto",
         "type": "bar",
         "x": [
          "2023-01-01T00:00:00",
          "2023-01-01T01:00:00",
          "2023-01-01T02:00:00",
          "2023-01-01T03:00:00",
          "2023-01-01T04:00:00",
          "2023-01-01T05:00:00",
          "2023-01-01T06:00:00",
          "2023-01-01T07:00:00",
          "2023-01-01T08:00:00",
          "2023-01-01T09:00:00",
          "2023-01-01T10:00:00",
          "2023-01-01T11:00:00",
          "2023-01-01T12:00:00",
          "2023-01-01T13:00:00",
          "2023-01-01T14:00:00",
          "2023-01-01T15:00:00",
          "2023-01-01T16:00:00",
          "2023-01-01T17:00:00",
          "2023-01-01T18:00:00",
          "2023-01-01T19:00:00",
          "2023-01-01T20:00:00",
          "2023-01-01T21:00:00",
          "2023-01-01T22:00:00",
          "2023-01-01T23:00:00"
         ],
         "xaxis": "x",
         "y": [
          0.213,
          0.353,
          0.119,
          0.263,
          0.313,
          0.461,
          0.056,
          0.149,
          0.116,
          0.267,
          0.317,
          0.108,
          0.087,
          0.374,
          0.218,
          0.221,
          0.096,
          0.395,
          0.06,
          0.421,
          0.119,
          0.159,
          0.478,
          0.261
         ],
         "yaxis": "y"
        }
       ],
       "layout": {
        "barmode": "relative",
        "legend": {
         "tracegroupgap": 0
        },
        "template": {
         "data": {
          "bar": [
           {
            "error_x": {
             "color": "#2a3f5f"
            },
            "error_y": {
             "color": "#2a3f5f"
            },
            "marker": {
             "line": {
              "color": "#E5ECF6",
              "width": 0.5
             },
             "pattern": {
              "fillmode": "overlay",
              "size": 10,
              "solidity": 0.2
             }
            },
            "type": "bar"
           }
          ],
          "barpolar": [
           {
            "marker": {
             "line": {
              "color": "#E5ECF6",
              "width": 0.5
             },
             "pattern": {
              "fillmode": "overlay",
              "size": 10,
              "solidity": 0.2
             }
            },
            "type": "barpolar"
           }
          ],
          "carpet": [
           {
            "aaxis": {
             "endlinecolor": "#2a3f5f",
             "gridcolor": "white",
             "linecolor": "white",
             "minorgridcolor": "white",
             "startlinecolor": "#2a3f5f"
            },
            "baxis": {
             "endlinecolor": "#2a3f5f",
             "gridcolor": "white",
             "linecolor": "white",
             "minorgridcolor": "white",
             "startlinecolor": "#2a3f5f"
            },
            "type": "carpet"
           }
          ],
          "choropleth": [
           {
            "colorbar": {
             "outlinewidth": 0,
             "ticks": ""
            },
            "type": "choropleth"
           }
          ],
          "contour": [
           {
            "colorbar": {
             "outlinewidth": 0,
             "ticks": ""
            },
            "colorscale": [
             [
              0,
              "#0d0887"
             ],
             [
              0.1111111111111111,
              "#46039f"
             ],
             [
              0.2222222222222222,
              "#7201a8"
             ],
             [
              0.3333333333333333,
              "#9c179e"
             ],
             [
              0.4444444444444444,
              "#bd3786"
             ],
             [
              0.5555555555555556,
              "#d8576b"
             ],
             [
              0.6666666666666666,
              "#ed7953"
             ],
             [
              0.7777777777777778,
              "#fb9f3a"
             ],
             [
              0.8888888888888888,
              "#fdca26"
             ],
             [
              1,
              "#f0f921"
             ]
            ],
            "type": "contour"
           }
          ],
          "contourcarpet": [
           {
            "colorbar": {
             "outlinewidth": 0,
             "ticks": ""
            },
            "type": "contourcarpet"
           }
          ],
          "heatmap": [
           {
            "colorbar": {
             "outlinewidth": 0,
             "ticks": ""
            },
            "colorscale": [
             [
              0,
              "#0d0887"
             ],
             [
              0.1111111111111111,
              "#46039f"
             ],
             [
              0.2222222222222222,
              "#7201a8"
             ],
             [
              0.3333333333333333,
              "#9c179e"
             ],
             [
              0.4444444444444444,
              "#bd3786"
             ],
             [
              0.5555555555555556,
              "#d8576b"
             ],
             [
              0.6666666666666666,
              "#ed7953"
             ],
             [
              0.7777777777777778,
              "#fb9f3a"
             ],
             [
              0.8888888888888888,
              "#fdca26"
             ],
             [
              1,
              "#f0f921"
             ]
            ],
            "type": "heatmap"
           }
          ],
          "heatmapgl": [
           {
            "colorbar": {
             "outlinewidth": 0,
             "ticks": ""
            },
            "colorscale": [
             [
              0,
              "#0d0887"
             ],
             [
              0.1111111111111111,
              "#46039f"
             ],
             [
              0.2222222222222222,
              "#7201a8"
             ],
             [
              0.3333333333333333,
              "#9c179e"
             ],
             [
              0.4444444444444444,
              "#bd3786"
             ],
             [
              0.5555555555555556,
              "#d8576b"
             ],
             [
              0.6666666666666666,
              "#ed7953"
             ],
             [
              0.7777777777777778,
              "#fb9f3a"
             ],
             [
              0.8888888888888888,
              "#fdca26"
             ],
             [
              1,
              "#f0f921"
             ]
            ],
            "type": "heatmapgl"
           }
          ],
          "histogram": [
           {
            "marker": {
             "pattern": {
              "fillmode": "overlay",
              "size": 10,
              "solidity": 0.2
             }
            },
            "type": "histogram"
           }
          ],
          "histogram2d": [
           {
            "colorbar": {
             "outlinewidth": 0,
             "ticks": ""
            },
            "colorscale": [
             [
              0,
              "#0d0887"
             ],
             [
              0.1111111111111111,
              "#46039f"
             ],
             [
              0.2222222222222222,
              "#7201a8"
             ],
             [
              0.3333333333333333,
              "#9c179e"
             ],
             [
              0.4444444444444444,
              "#bd3786"
             ],
             [
              0.5555555555555556,
              "#d8576b"
             ],
             [
              0.6666666666666666,
              "#ed7953"
             ],
             [
              0.7777777777777778,
              "#fb9f3a"
             ],
             [
              0.8888888888888888,
              "#fdca26"
             ],
             [
              1,
              "#f0f921"
             ]
            ],
            "type": "histogram2d"
           }
          ],
          "histogram2dcontour": [
           {
            "colorbar": {
             "outlinewidth": 0,
             "ticks": ""
            },
            "colorscale": [
             [
              0,
              "#0d0887"
             ],
             [
              0.1111111111111111,
              "#46039f"
             ],
             [
              0.2222222222222222,
              "#7201a8"
             ],
             [
              0.3333333333333333,
              "#9c179e"
             ],
             [
              0.4444444444444444,
              "#bd3786"
             ],
             [
              0.5555555555555556,
              "#d8576b"
             ],
             [
              0.6666666666666666,
              "#ed7953"
             ],
             [
              0.7777777777777778,
              "#fb9f3a"
             ],
             [
              0.8888888888888888,
              "#fdca26"
             ],
             [
              1,
              "#f0f921"
             ]
            ],
            "type": "histogram2dcontour"
           }
          ],
          "mesh3d": [
           {
            "colorbar": {
             "outlinewidth": 0,
             "ticks": ""
            },
            "type": "mesh3d"
           }
          ],
          "parcoords": [
           {
            "line": {
             "colorbar": {
              "outlinewidth": 0,
              "ticks": ""
             }
            },
            "type": "parcoords"
           }
          ],
          "pie": [
           {
            "automargin": true,
            "type": "pie"
           }
          ],
          "scatter": [
           {
            "fillpattern": {
             "fillmode": "overlay",
             "size": 10,
             "solidity": 0.2
            },
            "type": "scatter"
           }
          ],
          "scatter3d": [
           {
            "line": {
             "colorbar": {
              "outlinewidth": 0,
              "ticks": ""
             }
            },
            "marker": {
             "colorbar": {
              "outlinewidth": 0,
              "ticks": ""
             }
            },
            "type": "scatter3d"
           }
          ],
          "scattercarpet": [
           {
            "marker": {
             "colorbar": {
              "outlinewidth": 0,
              "ticks": ""
             }
            },
            "type": "scattercarpet"
           }
          ],
          "scattergeo": [
           {
            "marker": {
             "colorbar": {
              "outlinewidth": 0,
              "ticks": ""
             }
            },
            "type": "scattergeo"
           }
          ],
          "scattergl": [
           {
            "marker": {
             "colorbar": {
              "outlinewidth": 0,
              "ticks": ""
             }
            },
            "type": "scattergl"
           }
          ],
          "scattermapbox": [
           {
            "marker": {
             "colorbar": {
              "outlinewidth": 0,
              "ticks": ""
             }
            },
            "type": "scattermapbox"
           }
          ],
          "scatterpolar": [
           {
            "marker": {
             "colorbar": {
              "outlinewidth": 0,
              "ticks": ""
             }
            },
            "type": "scatterpolar"
           }
          ],
          "scatterpolargl": [
           {
            "marker": {
             "colorbar": {
              "outlinewidth": 0,
              "ticks": ""
             }
            },
            "type": "scatterpolargl"
           }
          ],
          "scatterternary": [
           {
            "marker": {
             "colorbar": {
              "outlinewidth": 0,
              "ticks": ""
             }
            },
            "type": "scatterternary"
           }
          ],
          "surface": [
           {
            "colorbar": {
             "outlinewidth": 0,
             "ticks": ""
            },
            "colorscale": [
             [
              0,
              "#0d0887"
             ],
             [
              0.1111111111111111,
              "#46039f"
             ],
             [
              0.2222222222222222,
              "#7201a8"
             ],
             [
              0.3333333333333333,
              "#9c179e"
             ],
             [
              0.4444444444444444,
              "#bd3786"
             ],
             [
              0.5555555555555556,
              "#d8576b"
             ],
             [
              0.6666666666666666,
              "#ed7953"
             ],
             [
              0.7777777777777778,
              "#fb9f3a"
             ],
             [
              0.8888888888888888,
              "#fdca26"
             ],
             [
              1,
              "#f0f921"
             ]
            ],
            "type": "surface"
           }
          ],
          "table": [
           {
            "cells": {
             "fill": {
              "color": "#EBF0F8"
             },
             "line": {
              "color": "white"
             }
            },
            "header": {
             "fill": {
              "color": "#C8D4E3"
             },
             "line": {
              "color": "white"
             }
            },
            "type": "table"
           }
          ]
         },
         "layout": {
          "annotationdefaults": {
           "arrowcolor": "#2a3f5f",
           "arrowhead": 0,
           "arrowwidth": 1
          },
          "autotypenumbers": "strict",
          "coloraxis": {
           "colorbar": {
            "outlinewidth": 0,
            "ticks": ""
           }
          },
          "colorscale": {
           "diverging": [
            [
             0,
             "#8e0152"
            ],
            [
             0.1,
             "#c51b7d"
            ],
            [
             0.2,
             "#de77ae"
            ],
            [
             0.3,
             "#f1b6da"
            ],
            [
             0.4,
             "#fde0ef"
            ],
            [
             0.5,
             "#f7f7f7"
            ],
            [
             0.6,
             "#e6f5d0"
            ],
            [
             0.7,
             "#b8e186"
            ],
            [
             0.8,
             "#7fbc41"
            ],
            [
             0.9,
             "#4d9221"
            ],
            [
             1,
             "#276419"
            ]
           ],
           "sequential": [
            [
             0,
             "#0d0887"
            ],
            [
             0.1111111111111111,
             "#46039f"
            ],
            [
             0.2222222222222222,
             "#7201a8"
            ],
            [
             0.3333333333333333,
             "#9c179e"
            ],
            [
             0.4444444444444444,
             "#bd3786"
            ],
            [
             0.5555555555555556,
             "#d8576b"
            ],
            [
             0.6666666666666666,
             "#ed7953"
            ],
            [
             0.7777777777777778,
             "#fb9f3a"
            ],
            [
             0.8888888888888888,
             "#fdca26"
            ],
            [
             1,
             "#f0f921"
            ]
           ],
           "sequentialminus": [
            [
             0,
             "#0d0887"
            ],
            [
             0.1111111111111111,
             "#46039f"
            ],
            [
             0.2222222222222222,
             "#7201a8"
            ],
            [
             0.3333333333333333,
             "#9c179e"
            ],
            [
             0.4444444444444444,
             "#bd3786"
            ],
            [
             0.5555555555555556,
             "#d8576b"
            ],
            [
             0.6666666666666666,
             "#ed7953"
            ],
            [
             0.7777777777777778,
             "#fb9f3a"
            ],
            [
             0.8888888888888888,
             "#fdca26"
            ],
            [
             1,
             "#f0f921"
            ]
           ]
          },
          "colorway": [
           "#636efa",
           "#EF553B",
           "#00cc96",
           "#ab63fa",
           "#FFA15A",
           "#19d3f3",
           "#FF6692",
           "#B6E880",
           "#FF97FF",
           "#FECB52"
          ],
          "font": {
           "color": "#2a3f5f"
          },
          "geo": {
           "bgcolor": "white",
           "lakecolor": "white",
           "landcolor": "#E5ECF6",
           "showlakes": true,
           "showland": true,
           "subunitcolor": "white"
          },
          "hoverlabel": {
           "align": "left"
          },
          "hovermode": "closest",
          "mapbox": {
           "style": "light"
          },
          "paper_bgcolor": "white",
          "plot_bgcolor": "#E5ECF6",
          "polar": {
           "angularaxis": {
            "gridcolor": "white",
            "linecolor": "white",
            "ticks": ""
           },
           "bgcolor": "#E5ECF6",
           "radialaxis": {
            "gridcolor": "white",
            "linecolor": "white",
            "ticks": ""
           }
          },
          "scene": {
           "xaxis": {
            "backgroundcolor": "#E5ECF6",
            "gridcolor": "white",
            "gridwidth": 2,
            "linecolor": "white",
            "showbackground": true,
            "ticks": "",
            "zerolinecolor": "white"
           },
           "yaxis": {
            "backgroundcolor": "#E5ECF6",
            "gridcolor": "white",
            "gridwidth": 2,
            "linecolor": "white",
            "showbackground": true,
            "ticks": "",
            "zerolinecolor": "white"
           },
           "zaxis": {
            "backgroundcolor": "#E5ECF6",
            "gridcolor": "white",
            "gridwidth": 2,
            "linecolor": "white",
            "showbackground": true,
            "ticks": "",
            "zerolinecolor": "white"
           }
          },
          "shapedefaults": {
           "line": {
            "color": "#2a3f5f"
           }
          },
          "ternary": {
           "aaxis": {
            "gridcolor": "white",
            "linecolor": "white",
            "ticks": ""
           },
           "baxis": {
            "gridcolor": "white",
            "linecolor": "white",
            "ticks": ""
           },
           "bgcolor": "#E5ECF6",
           "caxis": {
            "gridcolor": "white",
            "linecolor": "white",
            "ticks": ""
           }
          },
          "title": {
           "x": 0.05
          },
          "xaxis": {
           "automargin": true,
           "gridcolor": "white",
           "linecolor": "white",
           "ticks": "",
           "title": {
            "standoff": 15
           },
           "zerolinecolor": "white",
           "zerolinewidth": 2
          },
          "yaxis": {
           "automargin": true,
           "gridcolor": "white",
           "linecolor": "white",
           "ticks": "",
           "title": {
            "standoff": 15
           },
           "zerolinecolor": "white",
           "zerolinewidth": 2
          }
         }
        },
        "title": {
         "text": "Consumo por horas - 2023-01-01 00:00:00"
        },
        "xaxis": {
         "anchor": "y",
         "domain": [
          0,
          1
         ],
         "title": {
          "text": "Hora del día"
         }
        },
        "yaxis": {
         "anchor": "x",
         "domain": [
          0,
          1
         ],
         "title": {
          "text": "Consumo (KWh)"
         }
        }
       }
      }
     },
     "metadata": {},
     "output_type": "display_data"
    }
   ],
   "source": [
    "import pandas as pd\n",
    "import plotly.express as px\n",
    "\n",
    "# Selecciona el día específico \"2023-01-01\"\n",
    "dia_seleccionado = pd.to_datetime(\"2023-01-01\")\n",
    "\n",
    "# Filtrar el DataFrame para el día seleccionado\n",
    "df_dia = df[df['Fecha_Hora'].dt.date == dia_seleccionado.date()]\n",
    "\n",
    "# Crear el gráfico de barras para el consumo por horas\n",
    "fig = px.bar(df_dia, x='Fecha_Hora', y='Consumo_KWh', labels={'Fecha_Hora': 'Hora del día', 'Consumo_KWh': 'Consumo (KWh)'},\n",
    "             title=f'Consumo por horas - {dia_seleccionado}')\n",
    "\n",
    "# Mostrar el gráfico\n",
    "fig.show()"
   ]
  },
  {
   "cell_type": "code",
   "execution_count": 72,
   "metadata": {},
   "outputs": [
    {
     "name": "stdout",
     "output_type": "stream",
     "text": [
      "Meses con mayor consumo:\n",
      "9     2023-09\n",
      "10    2023-10\n",
      "8     2023-08\n",
      "Name: Fecha_Hora, dtype: period[M]\n",
      "\n",
      "Días con mayor consumo en esos meses:\n",
      "41    2023-09-11\n",
      "23    2023-08-24\n",
      "45    2023-09-15\n",
      "46    2023-09-16\n",
      "70    2023-10-10\n",
      "Name: Fecha_Hora, dtype: object\n",
      "\n",
      "Horas de mayor consumo en esos días:\n",
      "Fecha_Hora     6.000\n",
      "Consumo_KWh    2.176\n",
      "Name: 6, dtype: float64\n"
     ]
    }
   ],
   "source": [
    "\n",
    "############################################ NO BUENO ############################################\n",
    "\n",
    "\n",
    "import pandas as pd\n",
    "\n",
    "# Calcular el consumo total por mes\n",
    "consumo_por_mes = df.groupby(df['Fecha_Hora'].dt.to_period(\"M\"))['Consumo_KWh'].sum().reset_index()\n",
    "\n",
    "# Seleccionar los meses con mayor consumo (por ejemplo, los 3 meses con mayor consumo)\n",
    "meses_mayor_consumo = consumo_por_mes.nlargest(3, 'Consumo_KWh')['Fecha_Hora']\n",
    "\n",
    "# Filtrar el DataFrame para los días con mayor consumo en esos meses\n",
    "df_mayor_consumo_mes = df[df['Fecha_Hora'].dt.to_period(\"M\").isin(meses_mayor_consumo)]\n",
    "\n",
    "# Calcular el consumo total por día en esos meses\n",
    "consumo_por_dia = df_mayor_consumo_mes.groupby(df_mayor_consumo_mes['Fecha_Hora'].dt.date)['Consumo_KWh'].sum().reset_index()\n",
    "\n",
    "# Seleccionar los días con mayor consumo (por ejemplo, los 5 días con mayor consumo)\n",
    "dias_mayor_consumo = consumo_por_dia.nlargest(5, 'Consumo_KWh')['Fecha_Hora']\n",
    "\n",
    "# Filtrar el DataFrame para las horas de mayor consumo en esos días\n",
    "df_mayor_consumo_dia = df_mayor_consumo_mes[df_mayor_consumo_mes['Fecha_Hora'].dt.date.isin(dias_mayor_consumo)]\n",
    "\n",
    "# Calcular el consumo por hora en esos días\n",
    "consumo_por_hora = df_mayor_consumo_dia.groupby(df_mayor_consumo_dia['Fecha_Hora'].dt.hour)['Consumo_KWh'].sum().reset_index()\n",
    "\n",
    "# Identificar la hora de mayor consumo\n",
    "hora_mayor_consumo = consumo_por_hora.loc[consumo_por_hora['Consumo_KWh'].idxmax()]\n",
    "\n",
    "print(\"Meses con mayor consumo:\")\n",
    "print(meses_mayor_consumo)\n",
    "\n",
    "print(\"\\nDías con mayor consumo en esos meses:\")\n",
    "print(dias_mayor_consumo)\n",
    "\n",
    "print(\"\\nHoras de mayor consumo en esos días:\")\n",
    "print(hora_mayor_consumo)"
   ]
  },
  {
   "cell_type": "code",
   "execution_count": 73,
   "metadata": {},
   "outputs": [
    {
     "name": "stdout",
     "output_type": "stream",
     "text": [
      "Resultados ordenados de mayor a menor consumo:\n",
      "     Fecha_Hora  Consumo_KWh      Mes         Dia  Consumo_Total\n",
      "0             8        0.493  2023-08  2023-08-24          2.404\n",
      "1            22        0.488  2023-08  2023-08-24          2.404\n",
      "2            15        0.487  2023-08  2023-08-24          2.404\n",
      "3            16        0.478  2023-08  2023-08-24          2.404\n",
      "4             1        0.458  2023-08  2023-08-24          2.404\n",
      "..          ...          ...      ...         ...            ...\n",
      "120          16        0.390  2023-08  2023-08-27          2.182\n",
      "121           8        0.405  2023-08  2023-08-27          2.182\n",
      "122          10        0.476  2023-08  2023-08-27          2.182\n",
      "123          14        0.493  2023-08  2023-08-27          2.182\n",
      "124          20        0.418  2023-08  2023-08-27          2.182\n",
      "\n",
      "[125 rows x 5 columns]\n"
     ]
    }
   ],
   "source": [
    "import pandas as pd\n",
    "\n",
    "############################################ NO BUENO ############################################\n",
    "\n",
    "\n",
    "\n",
    "# Calcular el consumo total por mes\n",
    "consumo_por_mes = df.groupby(df['Fecha_Hora'].dt.to_period(\"M\"))['Consumo_KWh'].sum().reset_index()\n",
    "\n",
    "# Seleccionar los 5 meses con mayor consumo\n",
    "meses_mayor_consumo = consumo_por_mes.nlargest(5, 'Consumo_KWh')['Fecha_Hora']\n",
    "\n",
    "# Inicializar un DataFrame para almacenar los resultados\n",
    "resultados = pd.DataFrame()\n",
    "\n",
    "# Iterar sobre los 5 meses con mayor consumo\n",
    "for mes in meses_mayor_consumo:\n",
    "    # Filtrar el DataFrame para el mes actual\n",
    "    df_mes_actual = df[df['Fecha_Hora'].dt.to_period(\"M\") == mes]\n",
    "\n",
    "    # Calcular el consumo total por día en el mes actual\n",
    "    consumo_por_dia = df_mes_actual.groupby(df_mes_actual['Fecha_Hora'].dt.date)['Consumo_KWh'].sum().reset_index()\n",
    "\n",
    "    # Seleccionar todos los días con mayor consumo en el mes actual\n",
    "    dias_mayor_consumo = consumo_por_dia.nlargest(5, 'Consumo_KWh')['Fecha_Hora']\n",
    "\n",
    "    # Iterar sobre los días seleccionados\n",
    "    for dia in dias_mayor_consumo:\n",
    "        # Filtrar el DataFrame para el día actual\n",
    "        df_dia_actual = df_mes_actual[df_mes_actual['Fecha_Hora'].dt.date == dia]\n",
    "\n",
    "        # Calcular el consumo total por hora en el día actual\n",
    "        consumo_por_hora = df_dia_actual.groupby(df_dia_actual['Fecha_Hora'].dt.hour)['Consumo_KWh'].sum().reset_index()\n",
    "\n",
    "        # Seleccionar las 5 horas con mayor consumo en el día actual\n",
    "        horas_mayor_consumo = consumo_por_hora.nlargest(5, 'Consumo_KWh')\n",
    "\n",
    "        # Agregar columnas con el mes, el día y el consumo total correspondientes\n",
    "        horas_mayor_consumo['Mes'] = mes\n",
    "        horas_mayor_consumo['Dia'] = dia\n",
    "        horas_mayor_consumo['Consumo_Total'] = horas_mayor_consumo['Consumo_KWh'].sum()\n",
    "\n",
    "        # Agregar los resultados al DataFrame general\n",
    "        resultados = pd.concat([resultados, horas_mayor_consumo])\n",
    "\n",
    "# Ordenar los resultados de mayor a menor consumo\n",
    "resultados = resultados.sort_values(by=['Consumo_Total'], ascending=False).reset_index(drop=True)\n",
    "\n",
    "print(\"Resultados ordenados de mayor a menor consumo:\")\n",
    "print(resultados)\n"
   ]
  },
  {
   "cell_type": "code",
   "execution_count": 74,
   "metadata": {},
   "outputs": [
    {
     "name": "stdout",
     "output_type": "stream",
     "text": [
      "Los meses con mayor consumo del año (ordenados de mayor a menor consumo):\n",
      "   Fecha_Hora  Consumo_KWh\n",
      "9     2023-09      198.508\n",
      "10    2023-10      195.321\n",
      "8     2023-08      194.053\n",
      "\n",
      "Los días con mayor consumo del dataset (ordenados de mayor a menor consumo):\n",
      "     Fecha_Hora  Consumo_KWh\n",
      "86   2023-03-27        7.981\n",
      "96   2023-04-06        7.940\n",
      "119  2023-04-29        7.851\n",
      "254  2023-09-11        7.828\n",
      "236  2023-08-24        7.821\n",
      "337  2023-12-03        7.784\n",
      "258  2023-09-15        7.707\n",
      "259  2023-09-16        7.679\n",
      "283  2023-10-10        7.611\n",
      "74   2023-03-15        7.521\n"
     ]
    }
   ],
   "source": [
    "import pandas as pd\n",
    "\n",
    "# Supongamos que tienes un DataFrame llamado df con las columnas 'Fecha_Hora' y 'Consumo_KWh'\n",
    "# Asegúrate de que 'Fecha_Hora' esté en formato datetime\n",
    "df['Fecha_Hora'] = pd.to_datetime(df['Fecha_Hora'])\n",
    "\n",
    "# Calcular el consumo total por mes\n",
    "consumo_por_mes = df.groupby(df['Fecha_Hora'].dt.to_period(\"M\"))['Consumo_KWh'].sum().reset_index()\n",
    "\n",
    "# Seleccionar los meses con mayor consumo (todos si hay menos de 3)\n",
    "top_meses = consumo_por_mes.nlargest(min(3, len(consumo_por_mes)), 'Consumo_KWh')\n",
    "\n",
    "print(\"Los meses con mayor consumo del año (ordenados de mayor a menor consumo):\")\n",
    "print(top_meses)\n",
    "\n",
    "\n",
    "# Calcular el consumo total por día\n",
    "consumo_por_dia = df.groupby(df['Fecha_Hora'].dt.date)['Consumo_KWh'].sum().reset_index()\n",
    "\n",
    "# Seleccionar los días con mayor consumo (todos si hay menos de 10)\n",
    "top_dias = consumo_por_dia.nlargest(min(10, len(consumo_por_dia)), 'Consumo_KWh')\n",
    "\n",
    "print(\"\\nLos días con mayor consumo del dataset (ordenados de mayor a menor consumo):\")\n",
    "print(top_dias)\n",
    "\n"
   ]
  },
  {
   "cell_type": "code",
   "execution_count": 75,
   "metadata": {},
   "outputs": [
    {
     "name": "stdout",
     "output_type": "stream",
     "text": [
      "Media de consumo para cada hora a lo largo de todos los días:\n",
      "(24, 2)\n",
      "\n",
      "Las 5 horas del día con mayor consumo promedio:\n",
      "    Fecha_Hora  Consumo_KWh\n",
      "22          22     0.273468\n",
      "20          20     0.269912\n",
      "1            1     0.269588\n",
      "13          13     0.268608\n",
      "5            5     0.267022\n"
     ]
    }
   ],
   "source": [
    "import pandas as pd\n",
    "\n",
    "# Agrupar por hora y calcular la media de consumo\n",
    "media_consumo_por_hora = df.groupby(df['Fecha_Hora'].dt.hour)['Consumo_KWh'].mean().reset_index()\n",
    "\n",
    "print(\"Media de consumo para cada hora a lo largo de todos los días:\")\n",
    "print(media_consumo_por_hora.shape)\n",
    "\n",
    "# Seleccionar las 5 horas con mayor consumo promedio\n",
    "top_5_horas = media_consumo_por_hora.nlargest(5, 'Consumo_KWh')\n",
    "\n",
    "print(\"\\nLas 5 horas del día con mayor consumo promedio:\")\n",
    "print(top_5_horas)\n"
   ]
  }
 ],
 "metadata": {
  "kernelspec": {
   "display_name": "base",
   "language": "python",
   "name": "python3"
  },
  "language_info": {
   "codemirror_mode": {
    "name": "ipython",
    "version": 3
   },
   "file_extension": ".py",
   "mimetype": "text/x-python",
   "name": "python",
   "nbconvert_exporter": "python",
   "pygments_lexer": "ipython3",
   "version": "3.9.18"
  }
 },
 "nbformat": 4,
 "nbformat_minor": 2
}
